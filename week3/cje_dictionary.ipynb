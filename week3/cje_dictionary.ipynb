{
 "cells": [
  {
   "cell_type": "markdown",
   "metadata": {},
   "source": [
    "## Tatinic Function Dictionary 작업"
   ]
  },
  {
   "cell_type": "markdown",
   "metadata": {},
   "source": [
    "## 1. Pandas\n",
    "#### 파이썬에서 데이터를 편리하게 분석하고 가공할 수 있는 대표적인 라이브러리\n",
    "#### 표 형태로 데이터가 이루어져 있으며, 엑셀에서 보는 것과 유사한 형태로 결과를 보여줌\n",
    "#### 라이브러리를 불러오는 방법\n",
    "#### import pandas as pd\n",
    "\n",
    "#### pandas 자료구조\n",
    "\n",
    "#### Series\n",
    "#### DataFrame\n",
    "\n",
    "#### 데이터 불러오기(입출력)\n",
    "#### 인덱싱과 슬라이싱\n",
    "#### 행과 열 추가, 수정, 제거"
   ]
  },
  {
   "cell_type": "markdown",
   "metadata": {},
   "source": [
    "### pandas 데이터 구조의 예\n",
    "#### 1개의 열로 이루어진 데이터는 시리즈(Series)\n",
    "#### 2개 이상의 열로 이루어진 데이터는 데이터프레임(DataFrame)"
   ]
  },
  {
   "cell_type": "markdown",
   "metadata": {},
   "source": [
    "#### Pandas 자료구조\n",
    "#### 시리즈 (Series)\n",
    "#### 시리즈는 열벡터를 의미하며, Numpy의 1차원 배열과 유사한 형태\n",
    "#### 시리즈 생성하는 방법\n",
    "#### pd.Series(data, index = 인덱스_이름)\n",
    "#### 여기서 data은 열벡터에 해당하는 값이 들어가며, 리스트나 numpy array 또는 딕셔너리 형태가 들어감\n",
    "#### data에 딕셔너리 타입의 데이터가 들어가면 딕셔너리의 키가 index가 되며, 값이 data가 된다.\n",
    "#### index = 인덱스_이름 옵션은 각 값마다 대응되는 인덱스의 이름을 지정해주는 옵션 (따로 넣어주지 않으면 자동으로 0부터 시작하는 정수로 생성됨)"
   ]
  },
  {
   "cell_type": "markdown",
   "metadata": {},
   "source": [
    "## 2. Matplotlib\n",
    "#### 파이썬에서 시각화를 할 수 있는 라이브러리\n",
    "#### 데이터에 대한 다양한 그래프를 그릴 수 있음 (선그래프, 산점도, 히스토그램, 박스플랏 등)\n",
    "\n",
    "#### +여러가지 그래프 옵션\n",
    "#### 그래프를 좀 더 예쁘게 그리기 위한 많은 옵션들이 존재 (색, 모양 등)\n",
    "#### 그래프 옵션은 절대 외우는 것이 아님!!\n",
    "#### 필요한 옵션은 항상 구글링을 하여 찾는 것임!!"
   ]
  },
  {
   "cell_type": "markdown",
   "metadata": {},
   "source": [
    "## 3. Seaborn\n",
    "#### matplotlib에 비해 다양한 color palette가 존재\n",
    "#### 옵션을 디테일하게 조절하지 않아도 자동으로 세팅됨"
   ]
  },
  {
   "cell_type": "markdown",
   "metadata": {},
   "source": [
    "## displot\n",
    "#### 연속형 변수에 대한 히스토그램과 kde(kernel density estimation) 선을 같이 그려줌\n",
    "#### distplot과 같은 기능이지만, distplot은 이후 업데이트 버전에서는 없어질 예정"
   ]
  },
  {
   "cell_type": "markdown",
   "metadata": {},
   "source": [
    "## countplot\n",
    "#### 범주형 자료의 클래스마다의 개수를 세어 막대그래프로 그려줌\n",
    "#### hue 옵션으로 그룹별로 세분화하여 그래프르 그릴 수 있음"
   ]
  },
  {
   "cell_type": "markdown",
   "metadata": {},
   "source": [
    "## displot\n",
    "#### 연속형 변수에 대한 히스토그램과 kde(kernel density estimation) 선을 같이 그려줌\n",
    "#### distplot과 같은 기능이지만, distplot은 이후 업데이트 버전에서는 없어질 예정"
   ]
  },
  {
   "cell_type": "markdown",
   "metadata": {},
   "source": [
    "## heatmap\n",
    "#### 각 대응되는 값을 색상의 짙고 얕은 정도로 나타냄\n",
    "#### 상관계수를 시각화할 때 많이 사용"
   ]
  },
  {
   "cell_type": "markdown",
   "metadata": {},
   "source": [
    "## 4. 함수 정의 방법 (사용자정의 함수)"
   ]
  },
  {
   "cell_type": "markdown",
   "metadata": {},
   "source": [
    "#### 함수를 정의할 때에는 함수명 뒤에 반드시 ()가 붙어야함\n",
    "#### ()안에는 입력받을 인자를 넣는데, 필수는 아님 (인자가 없는 함수도 존재)\n",
    "#### 여기서 인자를 argument 또는 parameter라고도 함\n",
    "#### 반환값이 있을 경우, 함수의 마지막에 return을 작성 (반환값이 없는 함수도 존재)\n",
    "\n",
    "#### 작성방법\n",
    "#### def 함수명(인자):\n",
    "#### 실행할 문장\n",
    "####  return 반환할 변수"
   ]
  },
  {
   "cell_type": "markdown",
   "metadata": {},
   "source": [
    "## 5. for 문\n",
    "#### while 문과는 다르게, 반복할 횟수를 정하여 사용\n",
    "#### 리스트의 원소 개수만큼 반복하며, 원소를 하나씩 가져오면서 문장을 수행\n",
    "#### 구문 형태\n",
    "#### for 변수 in 리스트:\n",
    "####   실행할 문장"
   ]
  },
  {
   "cell_type": "markdown",
   "metadata": {},
   "source": [
    "### 중첩 for 문\n",
    "#### for 문 안에 다시 for 문이 들어갈 수 있다\n",
    "####   for 변수1 in 리스트1:\n",
    "####     실행할 문장 1\n",
    "####    for 변수2 in 리스트2:\n",
    "####     실행할 문장 2"
   ]
  },
  {
   "cell_type": "markdown",
   "metadata": {},
   "source": [
    "### for 문에서 유용한 함수\n",
    "#### enumerate : 리스트의 값을 가져오면서 해당 값의 인덱스도 같이 가져옴\n",
    "#### zip : 두 리스트의 같은 자리의 원소를 쌍으로 묶어서 가져옴"
   ]
  },
  {
   "cell_type": "markdown",
   "metadata": {},
   "source": [
    "###  자료형 변환\n",
    "#### int : 정수(int) 형태로 변환\n",
    "#### str : 문자열(str) 형태로 변환"
   ]
  },
  {
   "cell_type": "markdown",
   "metadata": {},
   "source": [
    "### isinstance\n",
    "#### isinstance(object, class )는 첫 번째 인수로 인스턴스, 두 번째 인수로 클래스 이름을 받는다. 입력으로 받은 인스턴스가 그 클래스의 인스턴스인지를 판단하여 참이면 True, 거짓이면 False를 돌려준다."
   ]
  },
  {
   "cell_type": "markdown",
   "metadata": {},
   "source": [
    "### map\n",
    "#### map(f, iterable)은 함수(f)와 반복 가능한(iterable) 자료형을 입력으로 받는다. map은 입력받은 자료형의 각 요소를 함수 f가 수행한 결과를 묶어서 돌려주는 함수이다."
   ]
  },
  {
   "cell_type": "markdown",
   "metadata": {},
   "source": [
    "#### two_times 함수는 리스트 요소를 입력받아 각 요소에 2를 곱한 결괏값을 돌려준다. ."
   ]
  },
  {
   "cell_type": "markdown",
   "metadata": {},
   "source": [
    "#### oct(x)는 정수 형태의 숫자를 8진수 문자열로 바꾸어 돌려주는 함수이다."
   ]
  },
  {
   "cell_type": "markdown",
   "metadata": {},
   "source": [
    "#### pow(x, y)는 x의 y 제곱한 결괏값을 돌려주는 함수이다."
   ]
  },
  {
   "cell_type": "markdown",
   "metadata": {},
   "source": [
    "### eval\n",
    "#### eval(expression )은 실행 가능한 문자열(1+2, 'hi' + 'a' 같은 것)을 입력으로 받아 문자열을 실행한 결괏값을 돌려주는 함수이다."
   ]
  },
  {
   "cell_type": "code",
   "execution_count": null,
   "metadata": {},
   "outputs": [],
   "source": []
  }
 ],
 "metadata": {
  "kernelspec": {
   "display_name": "Python 3",
   "language": "python",
   "name": "python3"
  },
  "language_info": {
   "codemirror_mode": {
    "name": "ipython",
    "version": 3
   },
   "file_extension": ".py",
   "mimetype": "text/x-python",
   "name": "python",
   "nbconvert_exporter": "python",
   "pygments_lexer": "ipython3",
   "version": "3.8.3"
  }
 },
 "nbformat": 4,
 "nbformat_minor": 4
}
